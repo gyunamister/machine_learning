{
 "cells": [
  {
   "cell_type": "markdown",
   "metadata": {},
   "source": [
    "## Machine Learning for Mechanical Engineering\n",
    "## HW6"
   ]
  },
  {
   "cell_type": "markdown",
   "metadata": {},
   "source": [
    "### Problem 1"
   ]
  },
  {
   "cell_type": "code",
   "execution_count": 1,
   "metadata": {},
   "outputs": [
    {
     "name": "stderr",
     "output_type": "stream",
     "text": [
      "/Users/GYUNAM/.pyenv/versions/3.4.5/lib/python3.4/importlib/_bootstrap.py:321: FutureWarning: Conversion of the second argument of issubdtype from `float` to `np.floating` is deprecated. In future, it will be treated as `np.float64 == np.dtype(float).type`.\n",
      "  return f(*args, **kwds)\n"
     ]
    }
   ],
   "source": [
    "import numpy as np\n",
    "import matplotlib.pyplot as plt\n",
    "import tensorflow as tf"
   ]
  },
  {
   "cell_type": "code",
   "execution_count": 2,
   "metadata": {},
   "outputs": [
    {
     "data": {
      "image/png": "[encoded data removed]",
      "text/plain": [
       "<matplotlib.figure.Figure at 0x11681a6d8>"
      ]
     },
     "metadata": {},
     "output_type": "display_data"
    }
   ],
   "source": [
    "# Data Generation\n",
    "\n",
    "m =  500\n",
    "\n",
    "data_x = np.linspace(-3, 3, m)\n",
    "data_y = 0.8*data_x + 2 + np.random.randn(m)*0.3\n",
    " \n",
    "plt.plot(data_x, data_y, '.')\n",
    "plt.axis('equal')\n",
    "plt.show()"
   ]
  },
  {
   "cell_type": "markdown",
   "metadata": {},
   "source": [
    "We will build the simplest ANN model as shown in the following figure in order to find the best line fit (i.e., linear regression) for the given training data set. Note that there is no hidden layer, and both the input and output layer have only one neuron."
   ]
  },
  {
   "cell_type": "code",
   "execution_count": 3,
   "metadata": {},
   "outputs": [],
   "source": [
    "\n",
    "# the sizes of input and output\n",
    "\n",
    "n_input = 1\n",
    "n_output =1"
   ]
  },
  {
   "cell_type": "code",
   "execution_count": 4,
   "metadata": {},
   "outputs": [],
   "source": [
    "# define decision variables in tf\n",
    "\n",
    "weights = {\n",
    "    'w' : tf.Variable(tf.random_normal([n_input, n_output],stddev=0.1)),\n",
    "}\n",
    "\n",
    "biases = {\n",
    "    'b' : tf.Variable(tf.random_normal([n_output],stddev=0.1)),\n",
    "}"
   ]
  },
  {
   "cell_type": "code",
   "execution_count": 5,
   "metadata": {},
   "outputs": [],
   "source": [
    "# define placeholders\n",
    "\n",
    "x = tf.placeholder(tf.float32, [None, n_input])\n",
    "y = tf.placeholder(tf.float32, [None, n_output])"
   ]
  },
  {
   "cell_type": "code",
   "execution_count": 6,
   "metadata": {},
   "outputs": [],
   "source": [
    "# define model\n",
    "\n",
    "def model(x, weights, biases):\n",
    "    #output layer\n",
    "    output = tf.add(tf.matmul(x,weights['w']), biases['b'])\n",
    "    return output"
   ]
  },
  {
   "cell_type": "code",
   "execution_count": 7,
   "metadata": {},
   "outputs": [],
   "source": [
    "# define loss\n",
    "\n",
    "pred = model(x, weights, biases)\n",
    "loss = tf.reduce_mean(tf.square(pred-y))"
   ]
  },
  {
   "cell_type": "code",
   "execution_count": 8,
   "metadata": {},
   "outputs": [],
   "source": [
    "# define an optimizer\n",
    "\n",
    "LR = 0.01\n",
    "optm = tf.train.AdamOptimizer(LR).minimize(loss)"
   ]
  },
  {
   "cell_type": "code",
   "execution_count": 9,
   "metadata": {},
   "outputs": [],
   "source": [
    "\n",
    "# tf.Variable initializer\n",
    "\n",
    "init = tf.global_variables_initializer()\n",
    "sess = tf.Session()\n",
    "sess.run(init)"
   ]
  },
  {
   "cell_type": "code",
   "execution_count": 10,
   "metadata": {},
   "outputs": [],
   "source": [
    "# define parameters \n",
    "\n",
    "n_batch = 500\n",
    "n_iter = 2500\n",
    "n_prt = 250"
   ]
  },
  {
   "cell_type": "code",
   "execution_count": 13,
   "metadata": {},
   "outputs": [],
   "source": [
    "# we provide 'next_batch function' for your convenience \n",
    "\n",
    "def next_batch(x, y, n_batch):\n",
    "    m = x.shape[0]\n",
    "    idx = np.random.randint(0, m, n_batch)\n",
    "    x_train, y_train = x[idx].reshape(-1,1), y[idx].reshape(-1,1)\n",
    "    return x_train, y_train"
   ]
  },
  {
   "cell_type": "code",
   "execution_count": 14,
   "metadata": {},
   "outputs": [
    {
     "name": "stdout",
     "output_type": "stream",
     "text": [
      "Iter: 0\n",
      "Cost: 6.3960185050964355\n",
      "Iter: 250\n",
      "Cost: 0.1816890388727188\n",
      "Iter: 500\n",
      "Cost: 0.07691281288862228\n",
      "Iter: 750\n",
      "Cost: 0.07940062880516052\n",
      "Iter: 1000\n",
      "Cost: 0.0714581236243248\n",
      "Iter: 1250\n",
      "Cost: 0.08171138912439346\n",
      "Iter: 1500\n",
      "Cost: 0.08382724970579147\n",
      "Iter: 1750\n",
      "Cost: 0.08480402827262878\n",
      "Iter: 2000\n",
      "Cost: 0.08020384609699249\n",
      "Iter: 2250\n",
      "Cost: 0.07690861821174622\n"
     ]
    }
   ],
   "source": [
    "# optimizing\n",
    "\n",
    "for epoch in range(n_iter):\n",
    "    train_x, train_y = next_batch(data_x, data_y, n_batch)\n",
    "    sess.run(optm, feed_dict={x:train_x, y:train_y})\n",
    "    if epoch % n_prt == 0:\n",
    "        c = sess.run(loss, feed_dict={x: train_x, y:train_y})\n",
    "        print(\"Iter: {}\".format(epoch))\n",
    "        print(\"Cost: {}\".format(c))0j0---adfadsfjkhldfadfdfgdgadfddfasdgasdqwerqwer"
   ]
  },
  {
   "cell_type": "code",
   "execution_count": 15,
   "metadata": {},
   "outputs": [
    {
     "name": "stdout",
     "output_type": "stream",
     "text": [
      "w_hat : 0.8052182197570801\n",
      "b_hat : 2.0097315311431885\n"
     ]
    }
   ],
   "source": [
    "w = sess.run(weights['w'])\n",
    "b = sess.run(biases['b'])\n",
    "\n",
    "w_hat = w[0,0]\n",
    "b_hat = b[0]\n",
    "\n",
    "print (\"w_hat : {}\".format(w_hat))\n",
    "print (\"b_hat : {}\".format(b_hat))"
   ]
  },
  {
   "cell_type": "code",
   "execution_count": 16,
   "metadata": {},
   "outputs": [
    {
     "data": {
      "image/png": "[encoded data removed]",
      "text/plain": [
       "<matplotlib.figure.Figure at 0x116a169b0>"
      ]
     },
     "metadata": {},
     "output_type": "display_data"
    }
   ],
   "source": [
    "# plot\n",
    "\n",
    "learned_y = data_x*w_hat + b_hat\n",
    "\n",
    "plt.plot(data_x, data_y, '.')\n",
    "plt.plot(data_x, learned_y, 'r')\n",
    "plt.show()"
   ]
  },
  {
   "cell_type": "code",
   "execution_count": null,
   "metadata": {},
   "outputs": [],
   "source": []
  }
 ],
 "metadata": {
  "kernelspec": {
   "display_name": "Python 3",
   "language": "python",
   "name": "python3"
  },
  "language_info": {
   "codemirror_mode": {
    "name": "ipython",
    "version": 3
   },
   "file_extension": ".py",
   "mimetype": "text/x-python",
   "name": "python",
   "nbconvert_exporter": "python",
   "pygments_lexer": "ipython3",
   "version": "3.4.5"
  }
 },
 "nbformat": 4,
 "nbformat_minor": 2
}
