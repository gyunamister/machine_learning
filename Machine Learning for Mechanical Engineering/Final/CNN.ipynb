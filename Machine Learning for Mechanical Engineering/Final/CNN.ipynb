{
 "cells": [
  {
   "cell_type": "code",
   "execution_count": 1,
   "metadata": {},
   "outputs": [
    {
     "name": "stderr",
     "output_type": "stream",
     "text": [
      "/Users/GYUNAM/.pyenv/versions/3.4.5/lib/python3.4/importlib/_bootstrap.py:321: FutureWarning: Conversion of the second argument of issubdtype from `float` to `np.floating` is deprecated. In future, it will be treated as `np.float64 == np.dtype(float).type`.\n",
      "  return f(*args, **kwds)\n"
     ]
    }
   ],
   "source": [
    "# Import Library\n",
    "import numpy as np\n",
    "import matplotlib.pyplot as plt\n",
    "import tensorflow as tf"
   ]
  },
  {
   "cell_type": "code",
   "execution_count": 2,
   "metadata": {},
   "outputs": [
    {
     "name": "stdout",
     "output_type": "stream",
     "text": [
      "Extracting MNIST_data/train-images-idx3-ubyte.gz\n",
      "Extracting MNIST_data/train-labels-idx1-ubyte.gz\n",
      "Extracting MNIST_data/t10k-images-idx3-ubyte.gz\n",
      "Extracting MNIST_data/t10k-labels-idx1-ubyte.gz\n"
     ]
    }
   ],
   "source": [
    "from tensorflow.examples.tutorials.mnist import input_data\n",
    "mnist = input_data.read_data_sets(\"MNIST_data/\", one_hot=True)"
   ]
  },
  {
   "cell_type": "code",
   "execution_count": 3,
   "metadata": {},
   "outputs": [
    {
     "data": {
      "image/png": "[encoded data removed]",
      "text/plain": [
       "<matplotlib.figure.Figure at 0x119b679e8>"
      ]
     },
     "metadata": {},
     "output_type": "display_data"
    }
   ],
   "source": [
    "# Check data\n",
    "train_x, train_y = mnist.train.next_batch(10)\n",
    "img = train_x[9,:].reshape(28, 28)\n",
    "\n",
    "plt.figure(figsize=(5, 3))\n",
    "plt.imshow(img,'gray')\n",
    "plt.title(\"Label : {}\".format(np.argmax(train_y[9])))\n",
    "plt.xticks([])\n",
    "plt.yticks([])\n",
    "plt.show()"
   ]
  },
  {
   "cell_type": "markdown",
   "metadata": {},
   "source": [
    "### 3.3. Build a Model"
   ]
  },
  {
   "cell_type": "code",
   "execution_count": 6,
   "metadata": {},
   "outputs": [],
   "source": [
    "input_h = 28 # Input height\n",
    "input_w = 28 # Input width\n",
    "input_ch = 1 # Input channel : Gray scale\n",
    "# (None, 28, 28, 1)\n",
    "\n",
    "## First convolution layer\n",
    "# Filter size\n",
    "k1_h = 3\n",
    "k1_w = 3\n",
    "# the number of channels\n",
    "k1_ch = 32\n",
    "# Pooling size\n",
    "p1_h = 2\n",
    "p1_w = 2\n",
    "# (None, 14, 14 ,32)\n",
    "\n",
    "## Second convolution layer\n",
    "# Filter size\n",
    "k2_h = 3\n",
    "k2_w = 3\n",
    "# the number of channels\n",
    "k2_ch = 64\n",
    "# Pooling size\n",
    "p2_h = 2\n",
    "p2_w = 2\n",
    "# (None, 7, 7 ,64)\n",
    "\n",
    "## Fully connected\n",
    "# Flatten the features\n",
    "# -> (None, 7*7*64)\n",
    "conv_result_size = int((input_h/(p2_h*p2_h)) * (input_w/(p2_w*p2_w)) * k2_ch)\n",
    "n_hidden1 = 100\n",
    "n_output = 10"
   ]
  },
  {
   "cell_type": "code",
   "execution_count": 7,
   "metadata": {},
   "outputs": [],
   "source": [
    "weights = {\n",
    "    'conv1' : tf.Variable(tf.random_normal([k1_h, k1_w, input_ch, k1_ch],stddev = 0.1)),\n",
    "    'conv2' : tf.Variable(tf.random_normal([k2_h, k2_w, k1_ch, k2_ch],stddev = 0.1)),\n",
    "    'hidden1' : tf.Variable(tf.random_normal([conv_result_size, n_hidden1], stddev = 0.1)),\n",
    "    'output' : tf.Variable(tf.random_normal([n_hidden1, n_output], stddev = 0.1))\n",
    "}\n",
    "\n",
    "biases = {\n",
    "    'conv1' : tf.Variable(tf.random_normal([k1_ch], stddev = 0.1)),\n",
    "    'conv2' : tf.Variable(tf.random_normal([k2_ch], stddev = 0.1)),\n",
    "    'hidden1' : tf.Variable(tf.random_normal([n_hidden1], stddev = 0.1)),\n",
    "    'output' : tf.Variable(tf.random_normal([n_output], stddev = 0.1))\n",
    "}\n",
    "\n",
    "x = tf.placeholder(tf.float32, [None, input_h, input_w, input_ch])\n",
    "y = tf.placeholder(tf.float32, [None, n_output])"
   ]
  },
  {
   "cell_type": "code",
   "execution_count": 9,
   "metadata": {},
   "outputs": [],
   "source": [
    "# Define Network\n",
    "def net(x, weights, biases):\n",
    "    ## First convolution layer\n",
    "    conv1 = tf.nn.conv2d(x, weights['conv1'], \n",
    "                         strides= [1, 1, 1, 1], \n",
    "                         padding = 'SAME')\n",
    "    conv1 = tf.nn.relu(tf.add(conv1, biases['conv1']))\n",
    "    maxp1 = tf.nn.max_pool(conv1, \n",
    "                           ksize = [1, p1_h, p1_w, 1], \n",
    "                           strides = [1, p1_h, p1_w, 1], \n",
    "                           padding = 'VALID'\n",
    "                           )\n",
    "    \n",
    "    ## Second convolution layer\n",
    "    conv2 = tf.nn.conv2d(maxp1, weights['conv2'], \n",
    "                         strides= [1, 1, 1, 1], \n",
    "                         padding = 'SAME')\n",
    "    conv2 = tf.nn.relu(tf.add(conv2, biases['conv2']))\n",
    "    maxp2 = tf.nn.max_pool(conv2, \n",
    "                           ksize = [1, p2_h, p2_w, 1], \n",
    "                           strides = [1, p2_h, p2_w, 1], \n",
    "                           padding = 'VALID')\n",
    "\n",
    "    # shape = conv2.get_shape().as_list()\n",
    "    # maxp2_re = tf.reshape(conv2, [-1, shape[1]*shape[2]*shape[3]])\n",
    "    maxp2_re = tf.reshape(maxp2, [-1, conv_result_size])\n",
    "    \n",
    "    ### Fully connected\n",
    "    hidden1 = tf.add(tf.matmul(maxp2_re, weights['hidden1']), biases['hidden1'])\n",
    "    hidden1 = tf.nn.relu(hidden1)\n",
    "    output = tf.add(tf.matmul(hidden1, weights['output']), biases['output'])\n",
    "    return output"
   ]
  },
  {
   "cell_type": "markdown",
   "metadata": {},
   "source": [
    "### 3.6. Define Loss, Initializer and Optimizer"
   ]
  },
  {
   "cell_type": "code",
   "execution_count": 10,
   "metadata": {},
   "outputs": [
    {
     "name": "stdout",
     "output_type": "stream",
     "text": [
      "WARNING:tensorflow:From <ipython-input-10-e1b9d441c90f>:4: softmax_cross_entropy_with_logits (from tensorflow.python.ops.nn_ops) is deprecated and will be removed in a future version.\n",
      "Instructions for updating:\n",
      "\n",
      "Future major versions of TensorFlow will allow gradients to flow\n",
      "into the labels input on backprop by default.\n",
      "\n",
      "See tf.nn.softmax_cross_entropy_with_logits_v2.\n",
      "\n"
     ]
    }
   ],
   "source": [
    "LR = 0.0001\n",
    "\n",
    "pred = net(x, weights, biases)\n",
    "loss = tf.nn.softmax_cross_entropy_with_logits(labels=y, logits=pred)\n",
    "loss = tf.reduce_mean(loss)\n",
    "\n",
    "# optimizer = tf.train.GradientDescentOptimizer(learning_rate).minimize(cost)\n",
    "optm = tf.train.AdamOptimizer(LR).minimize(loss)\n",
    "\n",
    "init = tf.global_variables_initializer()"
   ]
  },
  {
   "cell_type": "code",
   "execution_count": 11,
   "metadata": {},
   "outputs": [],
   "source": [
    "n_batch = 50\n",
    "n_iter = 2500\n",
    "n_prt = 250"
   ]
  },
  {
   "cell_type": "markdown",
   "metadata": {},
   "source": [
    "### Optimization"
   ]
  },
  {
   "cell_type": "code",
   "execution_count": 12,
   "metadata": {},
   "outputs": [
    {
     "name": "stdout",
     "output_type": "stream",
     "text": [
      "Iter : 0\n",
      "Cost : 2.5532302856445312\n",
      "Iter : 250\n",
      "Cost : 0.5361282825469971\n",
      "Iter : 500\n",
      "Cost : 0.2970339059829712\n",
      "Iter : 750\n",
      "Cost : 0.3307535946369171\n",
      "Iter : 1000\n",
      "Cost : 0.12657879292964935\n",
      "Iter : 1250\n",
      "Cost : 0.2084055095911026\n",
      "Iter : 1500\n",
      "Cost : 0.166045144200325\n",
      "Iter : 1750\n",
      "Cost : 0.10261090099811554\n",
      "Iter : 2000\n",
      "Cost : 0.15000995993614197\n",
      "Iter : 2250\n",
      "Cost : 0.07485847175121307\n"
     ]
    }
   ],
   "source": [
    "# Run initialize\n",
    "# config = tf.ConfigProto(allow_soft_placement=True)  # GPU Allocating policy\n",
    "# sess = tf.Session(config=config)\n",
    "sess = tf.Session()\n",
    "sess.run(init)\n",
    "\n",
    "# Training cycle\n",
    "for epoch in range(n_iter):\n",
    "    train_x, train_y = mnist.train.next_batch(n_batch)\n",
    "    train_x = np.reshape(train_x, [-1, input_h, input_w, input_ch])\n",
    "    sess.run(optm, feed_dict={x: train_x,  y: train_y})\n",
    "    \n",
    "    if epoch % n_prt == 0:\n",
    "        c = sess.run(loss, feed_dict={x: train_x, y: train_y})\n",
    "        print (\"Iter : {}\".format(epoch))\n",
    "        print (\"Cost : {}\".format(c))"
   ]
  },
  {
   "cell_type": "markdown",
   "metadata": {},
   "source": [
    "### Test"
   ]
  },
  {
   "cell_type": "code",
   "execution_count": 13,
   "metadata": {},
   "outputs": [
    {
     "name": "stdout",
     "output_type": "stream",
     "text": [
      "Accuracy : 98.0%\n"
     ]
    }
   ],
   "source": [
    "test_x, test_y = mnist.test.next_batch(100)\n",
    "\n",
    "my_pred = sess.run(pred, feed_dict={x : test_x.reshape(-1, 28, 28, 1)})\n",
    "my_pred = np.argmax(my_pred, axis=1)\n",
    "\n",
    "labels = np.argmax(test_y, axis=1)\n",
    "\n",
    "accr = np.mean(np.equal(my_pred, labels))\n",
    "print(\"Accuracy : {}%\".format(accr*100))"
   ]
  },
  {
   "cell_type": "code",
   "execution_count": 14,
   "metadata": {},
   "outputs": [
    {
     "data": {
      "image/png": "[encoded data removed]",
      "text/plain": [
       "<matplotlib.figure.Figure at 0x106961ac8>"
      ]
     },
     "metadata": {},
     "output_type": "display_data"
    },
    {
     "name": "stdout",
     "output_type": "stream",
     "text": [
      "Prediction : 4\n"
     ]
    },
    {
     "data": {
      "image/png": "[encoded data removed]",
      "text/plain": [
       "<matplotlib.figure.Figure at 0x11a244e48>"
      ]
     },
     "metadata": {},
     "output_type": "display_data"
    },
    {
     "name": "stdout",
     "output_type": "stream",
     "text": [
      "Probability : [0.   0.   0.   0.   0.97 0.   0.   0.02 0.   0.  ]\n"
     ]
    }
   ],
   "source": [
    "test_x, test_y = mnist.test.next_batch(1)\n",
    "logits = sess.run(tf.nn.softmax(pred), feed_dict={x : test_x.reshape(-1, 28, 28, 1)})\n",
    "predict = np.argmax(logits)\n",
    "\n",
    "plt.imshow(test_x.reshape(28, 28), 'gray')\n",
    "plt.xticks([])\n",
    "plt.yticks([])\n",
    "plt.show()\n",
    "\n",
    "print('Prediction : {}'.format(predict))\n",
    "\n",
    "plt.stem(logits.ravel())\n",
    "plt.show()\n",
    "\n",
    "np.set_printoptions(precision=2, suppress=True)\n",
    "print('Probability : {}'.format(logits.ravel()))\n"
   ]
  },
  {
   "cell_type": "code",
   "execution_count": null,
   "metadata": {},
   "outputs": [],
   "source": []
  }
 ],
 "metadata": {
  "kernelspec": {
   "display_name": "Python 3",
   "language": "python",
   "name": "python3"
  },
  "language_info": {
   "codemirror_mode": {
    "name": "ipython",
    "version": 3
   },
   "file_extension": ".py",
   "mimetype": "text/x-python",
   "name": "python",
   "nbconvert_exporter": "python",
   "pygments_lexer": "ipython3",
   "version": "3.4.5"
  }
 },
 "nbformat": 4,
 "nbformat_minor": 2
}
