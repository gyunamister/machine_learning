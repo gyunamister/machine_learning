{
 "cells": [
  {
   "cell_type": "markdown",
   "metadata": {},
   "source": [
    "### Problem 2\n",
    "\n",
    "1) Generate a random samples using randn command in python."
   ]
  },
  {
   "cell_type": "code",
   "execution_count": 5,
   "metadata": {},
   "outputs": [],
   "source": [
    "mu = 0\n",
    "sigma = 1\n",
    "N = 1000\n",
    "\n",
    "sample = np.random.randn(N,1)"
   ]
  },
  {
   "cell_type": "code",
   "execution_count": 6,
   "metadata": {},
   "outputs": [
    {
     "name": "stdout",
     "output_type": "stream",
     "text": [
      "951\n"
     ]
    }
   ],
   "source": [
    "condition = (np.abs(sample - mu) <= 2*sigma)\n",
    "count = np.sum(condition)\n",
    "print(count)"
   ]
  },
  {
   "cell_type": "code",
   "execution_count": 7,
   "metadata": {},
   "outputs": [
    {
     "name": "stdout",
     "output_type": "stream",
     "text": [
      "0.951\n"
     ]
    }
   ],
   "source": [
    "ratio = np.mean(condition)\n",
    "print(\"{}\".format(np.mean(condition)))"
   ]
  },
  {
   "cell_type": "code",
   "execution_count": 8,
   "metadata": {},
   "outputs": [
    {
     "data": {
      "image/png": "[encoded data removed]",
      "text/plain": [
       "<matplotlib.figure.Figure at 0x10bd5f8d0>"
      ]
     },
     "metadata": {},
     "output_type": "display_data"
    }
   ],
   "source": [
    "n_iter = 100\n",
    "\n",
    "def compute_ratio(N):\n",
    "    mu, sigma = 0, 1\n",
    "    sample = np.random.randn(N,1)\n",
    "    condition = np.abs(sample - mu) <= 2*sigma\n",
    "    ratio = np.mean(condition)\n",
    "    return ratio\n",
    "\n",
    "plt.figure(figsize=(10,6))\n",
    "for i in range(1, n_iter+1):\n",
    "    N = i*100\n",
    "    ratio = compute_ratio(N)\n",
    "    plt.plot(N, ratio, 'bo')\n",
    "plt.hlines(0.9545, 0, 10000, 'r')\n",
    "plt.xlabel('Ratio', fontsize=15)\n",
    "plt.ylabel('# of samples', fontsize=15)\n",
    "plt.show()"
   ]
  },
  {
   "cell_type": "code",
   "execution_count": null,
   "metadata": {},
   "outputs": [],
   "source": []
  },
  {
   "cell_type": "markdown",
   "metadata": {},
   "source": [
    "Monty Hall Problem with Monte Carlo Simulations"
   ]
  },
  {
   "cell_type": "code",
   "execution_count": 2,
   "metadata": {},
   "outputs": [],
   "source": [
    "import numpy as np\n",
    "import random\n",
    "from six.moves import cPickle\n",
    "import matplotlib.pyplot as plt\n",
    "import cvxpy as cvx\n",
    "\n",
    "%matplotlib inline"
   ]
  },
  {
   "cell_type": "code",
   "execution_count": 3,
   "metadata": {},
   "outputs": [
    {
     "name": "stdout",
     "output_type": "stream",
     "text": [
      "0.328\n"
     ]
    }
   ],
   "source": [
    "# without switching\n",
    "N = 1000\n",
    "\n",
    "count = 0\n",
    "for i in range(N):\n",
    "    car = np.random.choice([0,1,2])\n",
    "    my_pick = np.random.choice([0,1,2])\n",
    "    if my_pick == car : count += 1\n",
    "\n",
    "ratio = count/N\n",
    "print('{}'.format(ratio))"
   ]
  },
  {
   "cell_type": "code",
   "execution_count": 4,
   "metadata": {},
   "outputs": [
    {
     "name": "stdout",
     "output_type": "stream",
     "text": [
      "0.661\n"
     ]
    }
   ],
   "source": [
    "# with switching\n",
    "N = 1000\n",
    "\n",
    "count = 0\n",
    "for i in range(N):\n",
    "    car = [np.random.choice([0,1,2])]\n",
    "    my_pick = [np.random.choice([0,1,2])]\n",
    "    \n",
    "    if my_pick == car:\n",
    "        host_pick = np.random.choice([i for i in [0,1,2] if i not in my_pick])\n",
    "    else:\n",
    "        host_pick = [i for i in [0,1,2] if i not in my_pick + car]\n",
    "        \n",
    "    my_pick = [i for i in [0,1,2] if i not in my_pick + host_pick]\n",
    "    if my_pick == car : count += 1\n",
    "    \n",
    "ratio = count/N\n",
    "print('{}'.format(ratio))"
   ]
  },
  {
   "cell_type": "code",
   "execution_count": null,
   "metadata": {},
   "outputs": [],
   "source": []
  },
  {
   "cell_type": "code",
   "execution_count": null,
   "metadata": {},
   "outputs": [],
   "source": []
  }
 ],
 "metadata": {
  "kernelspec": {
   "display_name": "Python 3",
   "language": "python",
   "name": "python3"
  },
  "language_info": {
   "codemirror_mode": {
    "name": "ipython",
    "version": 3
   },
   "file_extension": ".py",
   "mimetype": "text/x-python",
   "name": "python",
   "nbconvert_exporter": "python",
   "pygments_lexer": "ipython3",
   "version": "3.4.5"
  }
 },
 "nbformat": 4,
 "nbformat_minor": 2
}
