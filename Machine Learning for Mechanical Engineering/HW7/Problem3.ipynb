{
 "cells": [
  {
   "cell_type": "markdown",
   "metadata": {},
   "source": [
    "### Problem3"
   ]
  },
  {
   "cell_type": "markdown",
   "metadata": {},
   "source": [
    "In this problem, you are asked to use CNN. By doing this to recognize the given sign language, we hope that you are getting familiar with the CNN algorithm. We have the images of sign language from 0 to 5."
   ]
  },
  {
   "cell_type": "code",
   "execution_count": 1,
   "metadata": {},
   "outputs": [
    {
     "name": "stderr",
     "output_type": "stream",
     "text": [
      "/Users/GYUNAM/.pyenv/versions/3.4.5/lib/python3.4/importlib/_bootstrap.py:321: FutureWarning: Conversion of the second argument of issubdtype from `float` to `np.floating` is deprecated. In future, it will be treated as `np.float64 == np.dtype(float).type`.\n",
      "  return f(*args, **kwds)\n"
     ]
    }
   ],
   "source": [
    "import numpy as np\n",
    "import matplotlib.pyplot as plt\n",
    "import tensorflow as tf\n",
    "from six.moves import cPickle"
   ]
  },
  {
   "cell_type": "code",
   "execution_count": 2,
   "metadata": {},
   "outputs": [],
   "source": [
    "from six.moves import cPickle\n",
    "image_set_train = cPickle.load(open('./data_files/image_set_train.pkl', 'rb'))\n",
    "label_train = cPickle.load(open('./data_files/label_train.pkl', 'rb'))\n",
    "image_set_test = cPickle.load(open('./data_files/image_set_test.pkl', 'rb'))\n",
    "label_test = cPickle.load(open('./data_files/label_test.pkl', 'rb'))"
   ]
  },
  {
   "cell_type": "code",
   "execution_count": 3,
   "metadata": {},
   "outputs": [
    {
     "data": {
      "text/plain": [
       "(337, 100, 100)"
      ]
     },
     "execution_count": 3,
     "metadata": {},
     "output_type": "execute_result"
    }
   ],
   "source": [
    "np.array(image_set_test).shape"
   ]
  },
  {
   "cell_type": "code",
   "execution_count": 4,
   "metadata": {},
   "outputs": [
    {
     "data": {
      "text/plain": [
       "(337, 6)"
      ]
     },
     "execution_count": 4,
     "metadata": {},
     "output_type": "execute_result"
    }
   ],
   "source": [
    "np.array(label_test).shape"
   ]
  },
  {
   "cell_type": "code",
   "execution_count": 5,
   "metadata": {},
   "outputs": [
    {
     "data": {
      "image/png": "[encoded data removed]",
      "text/plain": [
       "<matplotlib.figure.Figure at 0x1206716d8>"
      ]
     },
     "metadata": {},
     "output_type": "display_data"
    }
   ],
   "source": [
    "idx = np.random.randint(len(image_set_train))\n",
    "plt.imshow(image_set_train[idx],'gray')\n",
    "plt.title(np.argmax(label_train[idx]))\n",
    "plt.show()"
   ]
  },
  {
   "cell_type": "code",
   "execution_count": 6,
   "metadata": {},
   "outputs": [],
   "source": [
    "input_h = 100 # Input height\n",
    "input_w = 100 # Input width\n",
    "input_ch = 1 # Input channel : Gray scale\n",
    "\n",
    "\n",
    "## First convolution layer\n",
    "# Filter size\n",
    "k1_h = 3\n",
    "k1_w = 3\n",
    "# the number of channels\n",
    "k1_ch = 32\n",
    "# Pooling size\n",
    "p1_h = 2\n",
    "p1_w = 2\n",
    "# (None, 14, 14 ,32)\n",
    "\n",
    "## Second convolution layer\n",
    "# Filter size\n",
    "k2_h = 3\n",
    "k2_w = 3\n",
    "# the number of channels\n",
    "k2_ch = 64\n",
    "# Pooling size\n",
    "p2_h = 2\n",
    "p2_w = 2\n",
    "# (None, 7, 7 ,64)\n",
    "\n",
    "## Fully connected\n",
    "# Flatten the features\n",
    "# -> (None, 7*7*64)\n",
    "conv_result_size = int((input_h/(p1_h*p2_h)) * (input_w/(p1_w*p2_w)) * k2_ch)\n",
    "n_hidden1 = 100\n",
    "n_output = 6"
   ]
  },
  {
   "cell_type": "code",
   "execution_count": 7,
   "metadata": {},
   "outputs": [],
   "source": [
    "\n",
    "weights = {\n",
    "    'conv1' : tf.Variable(tf.random_normal([k1_h, k1_w, input_ch, k1_ch],stddev = 0.1)),\n",
    "    'conv2' : tf.Variable(tf.random_normal([k2_h, k2_w, k1_ch, k2_ch],stddev = 0.1)),\n",
    "    'hidden1' : tf.Variable(tf.random_normal([conv_result_size, n_hidden1], stddev = 0.1)),\n",
    "    'output' : tf.Variable(tf.random_normal([n_hidden1, n_output], stddev = 0.1))\n",
    "}\n",
    "\n",
    "biases = {\n",
    "    'conv1' : tf.Variable(tf.random_normal([k1_ch], stddev = 0.1)),\n",
    "    'conv2' : tf.Variable(tf.random_normal([k2_ch], stddev = 0.1)),\n",
    "    'hidden1' : tf.Variable(tf.random_normal([n_hidden1], stddev = 0.1)),\n",
    "    'output' : tf.Variable(tf.random_normal([n_output], stddev = 0.1))\n",
    "}\n",
    "\n",
    "x = tf.placeholder(tf.float32, [None, input_h, input_w, input_ch])\n",
    "y = tf.placeholder(tf.float32, [None, n_output])"
   ]
  },
  {
   "cell_type": "code",
   "execution_count": 8,
   "metadata": {},
   "outputs": [],
   "source": [
    "# Define Network\n",
    "def net(x, weights, biases):\n",
    "    ## First convolution layer\n",
    "    conv1 = tf.nn.conv2d(x, weights['conv1'], \n",
    "                         strides= [1, 1, 1, 1], \n",
    "                         padding = 'SAME')\n",
    "    conv1 = tf.nn.relu(tf.add(conv1, biases['conv1']))\n",
    "    maxp1 = tf.nn.max_pool(conv1, \n",
    "                           ksize = [1, p1_h, p1_w, 1], \n",
    "                           strides = [1, p1_h, p1_w, 1], \n",
    "                           padding = 'VALID'\n",
    "                           )\n",
    "    \n",
    "    ## Second convolution layer\n",
    "    conv2 = tf.nn.conv2d(maxp1, weights['conv2'], \n",
    "                         strides= [1, 1, 1, 1], \n",
    "                         padding = 'SAME')\n",
    "    conv2 = tf.nn.relu(tf.add(conv2, biases['conv2']))\n",
    "    maxp2 = tf.nn.max_pool(conv2, \n",
    "                           ksize = [1, p2_h, p2_w, 1], \n",
    "                           strides = [1, p2_h, p2_w, 1], \n",
    "                           padding = 'VALID')\n",
    "\n",
    "    # shape = conv2.get_shape().as_list()\n",
    "    # maxp2_re = tf.reshape(conv2, [-1, shape[1]*shape[2]*shape[3]])\n",
    "    maxp2_re = tf.reshape(maxp2, [-1, conv_result_size])\n",
    "    \n",
    "    ### Fully connected\n",
    "    hidden1 = tf.add(tf.matmul(maxp2_re, weights['hidden1']), biases['hidden1'])\n",
    "    hidden1 = tf.nn.relu(hidden1)\n",
    "    output = tf.add(tf.matmul(hidden1, weights['output']), biases['output'])\n",
    "    return output"
   ]
  },
  {
   "cell_type": "code",
   "execution_count": 9,
   "metadata": {},
   "outputs": [
    {
     "name": "stdout",
     "output_type": "stream",
     "text": [
      "WARNING:tensorflow:From <ipython-input-9-34026b59e095>:5: softmax_cross_entropy_with_logits (from tensorflow.python.ops.nn_ops) is deprecated and will be removed in a future version.\n",
      "Instructions for updating:\n",
      "\n",
      "Future major versions of TensorFlow will allow gradients to flow\n",
      "into the labels input on backprop by default.\n",
      "\n",
      "See tf.nn.softmax_cross_entropy_with_logits_v2.\n",
      "\n"
     ]
    }
   ],
   "source": [
    "\n",
    "LR = 0.0001\n",
    "\n",
    "pred = net(x, weights, biases)\n",
    "loss = tf.nn.softmax_cross_entropy_with_logits(labels=y, logits=pred)\n",
    "loss = tf.reduce_mean(loss)\n",
    "\n",
    "# optimizer = tf.train.GradientDescentOptimizer(learning_rate).minimize(cost)\n",
    "optm = tf.train.AdamOptimizer(LR).minimize(loss)\n",
    "\n",
    "init = tf.global_variables_initializer()"
   ]
  },
  {
   "cell_type": "code",
   "execution_count": 10,
   "metadata": {},
   "outputs": [],
   "source": [
    "n_batch = 50\n",
    "n_iter = 2500\n",
    "n_prt = 250\n"
   ]
  },
  {
   "cell_type": "code",
   "execution_count": 11,
   "metadata": {},
   "outputs": [
    {
     "name": "stdout",
     "output_type": "stream",
     "text": [
      "Iter : 0\n",
      "Cost : 1200.4638671875\n",
      "Iter : 250\n",
      "Cost : 13.942736625671387\n",
      "Iter : 500\n",
      "Cost : 3.4375829696655273\n",
      "Iter : 750\n",
      "Cost : 1.1560593843460083\n",
      "Iter : 1000\n",
      "Cost : 2.4341638891201e-06\n",
      "Iter : 1250\n",
      "Cost : 0.0\n",
      "Iter : 1500\n",
      "Cost : 0.0\n",
      "Iter : 1750\n",
      "Cost : 0.0\n",
      "Iter : 2000\n",
      "Cost : 0.0\n",
      "Iter : 2250\n",
      "Cost : 2.38418573772492e-09\n"
     ]
    }
   ],
   "source": [
    "sess = tf.Session()\n",
    "sess.run(init)\n",
    "\n",
    "# Training cycle\n",
    "for epoch in range(n_iter):\n",
    "    idx = np.random.randint(len(label_train), size=n_batch)\n",
    "    train_x = [image_set_train[i] for i in idx]\n",
    "    train_y = [label_train[i] for i in idx]\n",
    "    train_x = np.reshape(np.array(train_x),(-1,100,100,1)) \n",
    "    sess.run(optm, feed_dict={x: train_x,  y: train_y})\n",
    "    \n",
    "    if epoch % n_prt == 0:\n",
    "        c = sess.run(loss, feed_dict={x: train_x, y: train_y})\n",
    "        print (\"Iter : {}\".format(epoch))\n",
    "        print (\"Cost : {}\".format(c))"
   ]
  },
  {
   "cell_type": "code",
   "execution_count": 12,
   "metadata": {},
   "outputs": [
    {
     "name": "stdout",
     "output_type": "stream",
     "text": [
      "Accuracy : 80.0%\n"
     ]
    }
   ],
   "source": [
    "size = 100\n",
    "idx = np.random.randint(len(label_test), size=size)\n",
    "test_x = [image_set_test[i] for i in idx]\n",
    "test_y = [label_test[i] for i in idx]\n",
    "\n",
    "my_pred = sess.run(pred, feed_dict={x : np.array(test_x).reshape(-1,100,100,1)})\n",
    "my_pred = np.argmax(my_pred, axis=1)\n",
    "\n",
    "labels = np.argmax(test_y, axis=1)\n",
    "\n",
    "accr = np.mean(np.equal(my_pred, labels))\n",
    "print(\"Accuracy : {}%\".format(accr*100))"
   ]
  },
  {
   "cell_type": "code",
   "execution_count": 13,
   "metadata": {},
   "outputs": [
    {
     "data": {
      "image/png": "[encoded data removed]",
      "text/plain": [
       "<matplotlib.figure.Figure at 0x122f53be0>"
      ]
     },
     "metadata": {},
     "output_type": "display_data"
    },
    {
     "name": "stdout",
     "output_type": "stream",
     "text": [
      "Label : 3\n",
      "Prediction : 3\n"
     ]
    },
    {
     "data": {
      "image/png": "[encoded data removed]",
      "text/plain": [
       "<matplotlib.figure.Figure at 0x10f86ddd8>"
      ]
     },
     "metadata": {},
     "output_type": "display_data"
    },
    {
     "name": "stdout",
     "output_type": "stream",
     "text": [
      "Probability : [0. 0. 0. 1. 0. 0.]\n"
     ]
    }
   ],
   "source": [
    "size = 1\n",
    "idx = np.random.randint(len(label_test), size=size)\n",
    "test_x = [image_set_test[i] for i in idx]\n",
    "test_y = [label_test[i] for i in idx]\n",
    "logits = sess.run(tf.nn.softmax(pred), feed_dict={x : np.array(test_x).reshape(-1,100,100,1)})\n",
    "predict = np.argmax(logits)\n",
    "\n",
    "plt.imshow(test_x[0], 'gray')\n",
    "plt.xticks([])\n",
    "plt.yticks([])\n",
    "plt.show()\n",
    "\n",
    "print('Label : {}'.format(np.argmax(test_y[0])))\n",
    "print('Prediction : {}'.format(predict))\n",
    "\n",
    "plt.stem(logits.ravel())\n",
    "plt.show()\n",
    "\n",
    "np.set_printoptions(precision=2, suppress=True)\n",
    "print('Probability : {}'.format(logits.ravel()))"
   ]
  },
  {
   "cell_type": "code",
   "execution_count": null,
   "metadata": {},
   "outputs": [],
   "source": []
  }
 ],
 "metadata": {
  "kernelspec": {
   "display_name": "Python 3",
   "language": "python",
   "name": "python3"
  },
  "language_info": {
   "codemirror_mode": {
    "name": "ipython",
    "version": 3
   },
   "file_extension": ".py",
   "mimetype": "text/x-python",
   "name": "python",
   "nbconvert_exporter": "python",
   "pygments_lexer": "ipython3",
   "version": "3.4.5"
  }
 },
 "nbformat": 4,
 "nbformat_minor": 2
}
