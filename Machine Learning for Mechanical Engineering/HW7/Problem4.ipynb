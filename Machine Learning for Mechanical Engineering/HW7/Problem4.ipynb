{
 "cells": [
  {
   "cell_type": "markdown",
   "metadata": {},
   "source": [
    "### Problem 4"
   ]
  },
  {
   "cell_type": "markdown",
   "metadata": {},
   "source": [
    "For your next vacation, you decided to spend a week with five of your friends from school. It is a very convenient house with many things to do nearby. But the most important benefit is that everybody has commited to be happy when they are in the house. So anyone wanting to enter the house must prove their current state of happiness.\n",
    "As a deep learning expert, to make sure the \"Happy\" rule is strictly applied, you are going to build an algorithm which that uses pictures from the front door camera to check if the person is happy or not. The door should open only if the person is happy.\n",
    "You have gathered pictures of your friends and yourself, taken by the front-door camera. The dataset is labbeled."
   ]
  },
  {
   "cell_type": "code",
   "execution_count": 1,
   "metadata": {},
   "outputs": [
    {
     "name": "stderr",
     "output_type": "stream",
     "text": [
      "/Users/GYUNAM/.pyenv/versions/3.4.5/lib/python3.4/importlib/_bootstrap.py:321: FutureWarning: Conversion of the second argument of issubdtype from `float` to `np.floating` is deprecated. In future, it will be treated as `np.float64 == np.dtype(float).type`.\n",
      "  return f(*args, **kwds)\n"
     ]
    }
   ],
   "source": [
    "import tensorflow as tf\n",
    "import numpy as np\n",
    "import matplotlib.pyplot as plt\n",
    "from six.moves import cPickle"
   ]
  },
  {
   "cell_type": "code",
   "execution_count": 2,
   "metadata": {},
   "outputs": [],
   "source": [
    "happy_list = cPickle.load(open('./data_files/happy_list.pkl','rb'))\n",
    "happy_labels = cPickle.load(open('./data_files/happy_labels.pkl','rb'))\n",
    "\n",
    "unhappy_list = cPickle.load(open('./data_files/unhappy_list.pkl', 'rb'))\n",
    "unhappy_labels = cPickle.load(open('./data_files/unhappy_labels.pkl','rb'))"
   ]
  },
  {
   "cell_type": "code",
   "execution_count": 3,
   "metadata": {},
   "outputs": [
    {
     "data": {
      "image/png": "[encoded data removed]",
      "text/plain": [
       "<matplotlib.figure.Figure at 0x1187da470>"
      ]
     },
     "metadata": {},
     "output_type": "display_data"
    }
   ],
   "source": [
    "# happy\n",
    "idx = np.random.randint(len(happy_list))\n",
    "plt.imshow(happy_list[idx].reshape(48,48),'gray')\n",
    "plt.title('{}'.format(happy_labels[idx]))\n",
    "plt.show()"
   ]
  },
  {
   "cell_type": "code",
   "execution_count": 4,
   "metadata": {},
   "outputs": [
    {
     "data": {
      "image/png": "[encoded data removed]",
      "text/plain": [
       "<matplotlib.figure.Figure at 0x11905dba8>"
      ]
     },
     "metadata": {},
     "output_type": "display_data"
    }
   ],
   "source": [
    "# unhappy\n",
    "idx = np.random.randint(len(unhappy_list))\n",
    "plt.imshow(unhappy_list[idx].reshape(48,48),'gray')\n",
    "plt.title('{}'.format(unhappy_labels[idx]))\n",
    "plt.show()"
   ]
  },
  {
   "cell_type": "code",
   "execution_count": 5,
   "metadata": {},
   "outputs": [],
   "source": [
    "train_x_total = cPickle.load(open('./data_files/train_x_total.pkl','rb'))\n",
    "train_y_total = cPickle.load(open('./data_files/train_y_total.pkl', 'rb'))"
   ]
  },
  {
   "cell_type": "code",
   "execution_count": 6,
   "metadata": {},
   "outputs": [],
   "source": [
    "test_x_total = cPickle.load(open('./data_files/test_x_total.pkl', 'rb'))\n",
    "test_y_total = cPickle.load(open('./data_files/test_y_total.pkl', 'rb'))"
   ]
  },
  {
   "cell_type": "code",
   "execution_count": 7,
   "metadata": {},
   "outputs": [],
   "source": [
    "input_h = 48 # Input height\n",
    "input_w = 48 # Input width\n",
    "input_ch = 1 # Input channel : Gray scale\n",
    "\n",
    "## First convolution layer\n",
    "# Filter size\n",
    "k1_h = 3\n",
    "k1_w = 3\n",
    "# the number of channels\n",
    "k1_ch = 32\n",
    "# Pooling size\n",
    "p1_h = 2\n",
    "p1_w = 2\n",
    "# (None, 14, 14 ,32)\n",
    "\n",
    "## Second convolution layer\n",
    "# Filter size\n",
    "k2_h = 3\n",
    "k2_w = 3\n",
    "# the number of channels\n",
    "k2_ch = 64\n",
    "# Pooling size\n",
    "p2_h = 2\n",
    "p2_w = 2\n",
    "# (None, 7, 7 ,64)\n",
    "\n",
    "## Fully connected\n",
    "# Flatten the features\n",
    "# -> (None, 7*7*64)\n",
    "conv_result_size = int((input_h/(p1_h*p2_h)) * (input_w/(p1_w*p2_w)) * k2_ch)\n",
    "n_hidden1 = 100\n",
    "n_output = 2"
   ]
  },
  {
   "cell_type": "code",
   "execution_count": 8,
   "metadata": {},
   "outputs": [],
   "source": [
    "\n",
    "weights = {\n",
    "    'conv1' : tf.Variable(tf.random_normal([k1_h, k1_w, input_ch, k1_ch],stddev = 0.1)),\n",
    "    'conv2' : tf.Variable(tf.random_normal([k2_h, k2_w, k1_ch, k2_ch],stddev = 0.1)),\n",
    "    'hidden1' : tf.Variable(tf.random_normal([conv_result_size, n_hidden1], stddev = 0.1)),\n",
    "    'output' : tf.Variable(tf.random_normal([n_hidden1, n_output], stddev = 0.1))\n",
    "}\n",
    "\n",
    "biases = {\n",
    "    'conv1' : tf.Variable(tf.random_normal([k1_ch], stddev = 0.1)),\n",
    "    'conv2' : tf.Variable(tf.random_normal([k2_ch], stddev = 0.1)),\n",
    "    'hidden1' : tf.Variable(tf.random_normal([n_hidden1], stddev = 0.1)),\n",
    "    'output' : tf.Variable(tf.random_normal([n_output], stddev = 0.1))\n",
    "}\n",
    "\n",
    "x = tf.placeholder(tf.float32, [None, input_h, input_w, input_ch])\n",
    "y = tf.placeholder(tf.float32, [None, n_output])"
   ]
  },
  {
   "cell_type": "code",
   "execution_count": 9,
   "metadata": {},
   "outputs": [],
   "source": [
    "# Define Network\n",
    "def net(x, weights, biases):\n",
    "    ## First convolution layer\n",
    "    conv1 = tf.nn.conv2d(x, weights['conv1'], \n",
    "                         strides= [1, 1, 1, 1], \n",
    "                         padding = 'SAME')\n",
    "    conv1 = tf.nn.relu(tf.add(conv1, biases['conv1']))\n",
    "    maxp1 = tf.nn.max_pool(conv1, \n",
    "                           ksize = [1, p1_h, p1_w, 1], \n",
    "                           strides = [1, p1_h, p1_w, 1], \n",
    "                           padding = 'VALID'\n",
    "                           )\n",
    "    \n",
    "    ## Second convolution layer\n",
    "    conv2 = tf.nn.conv2d(maxp1, weights['conv2'], \n",
    "                         strides= [1, 1, 1, 1], \n",
    "                         padding = 'SAME')\n",
    "    conv2 = tf.nn.relu(tf.add(conv2, biases['conv2']))\n",
    "    maxp2 = tf.nn.max_pool(conv2, \n",
    "                           ksize = [1, p2_h, p2_w, 1], \n",
    "                           strides = [1, p2_h, p2_w, 1], \n",
    "                           padding = 'VALID')\n",
    "\n",
    "    # shape = conv2.get_shape().as_list()\n",
    "    # maxp2_re = tf.reshape(conv2, [-1, shape[1]*shape[2]*shape[3]])\n",
    "    maxp2_re = tf.reshape(maxp2, [-1, conv_result_size])\n",
    "    \n",
    "    ### Fully connected\n",
    "    hidden1 = tf.add(tf.matmul(maxp2_re, weights['hidden1']), biases['hidden1'])\n",
    "    hidden1 = tf.nn.relu(hidden1)\n",
    "    output = tf.add(tf.matmul(hidden1, weights['output']), biases['output'])\n",
    "    return output"
   ]
  },
  {
   "cell_type": "code",
   "execution_count": 10,
   "metadata": {},
   "outputs": [
    {
     "name": "stdout",
     "output_type": "stream",
     "text": [
      "WARNING:tensorflow:From <ipython-input-10-e1b9d441c90f>:4: softmax_cross_entropy_with_logits (from tensorflow.python.ops.nn_ops) is deprecated and will be removed in a future version.\n",
      "Instructions for updating:\n",
      "\n",
      "Future major versions of TensorFlow will allow gradients to flow\n",
      "into the labels input on backprop by default.\n",
      "\n",
      "See tf.nn.softmax_cross_entropy_with_logits_v2.\n",
      "\n"
     ]
    }
   ],
   "source": [
    "LR = 0.0001\n",
    "\n",
    "pred = net(x, weights, biases)\n",
    "loss = tf.nn.softmax_cross_entropy_with_logits(labels=y, logits=pred)\n",
    "loss = tf.reduce_mean(loss)\n",
    "\n",
    "# optimizer = tf.train.GradientDescentOptimizer(learning_rate).minimize(cost)\n",
    "optm = tf.train.AdamOptimizer(LR).minimize(loss)\n",
    "\n",
    "init = tf.global_variables_initializer()"
   ]
  },
  {
   "cell_type": "code",
   "execution_count": 11,
   "metadata": {},
   "outputs": [],
   "source": [
    "n_batch = 50\n",
    "n_iter = 2500\n",
    "n_prt = 250\n",
    "\n"
   ]
  },
  {
   "cell_type": "code",
   "execution_count": 12,
   "metadata": {},
   "outputs": [
    {
     "name": "stdout",
     "output_type": "stream",
     "text": [
      "Iter : 0\n",
      "Cost : 88.24232482910156\n",
      "Iter : 250\n",
      "Cost : 1.8438607454299927\n",
      "Iter : 500\n",
      "Cost : 0.0180275309830904\n",
      "Iter : 750\n",
      "Cost : 0.5475150346755981\n",
      "Iter : 1000\n",
      "Cost : 0.7745928764343262\n",
      "Iter : 1250\n",
      "Cost : 0.00025699962861835957\n",
      "Iter : 1500\n",
      "Cost : 6.934404154890217e-06\n",
      "Iter : 1750\n",
      "Cost : 0.04491037502884865\n",
      "Iter : 2000\n",
      "Cost : 0.0471925362944603\n",
      "Iter : 2250\n",
      "Cost : 1.430511264999268e-08\n"
     ]
    }
   ],
   "source": [
    "# Run initialize\n",
    "# config = tf.ConfigProto(allow_soft_placement=True)  # GPU Allocating policy\n",
    "# sess = tf.Session(config=config)\n",
    "sess = tf.Session()\n",
    "sess.run(init)\n",
    "\n",
    "# Training cycle\n",
    "for epoch in range(n_iter):\n",
    "    idx = np.random.randint(len(train_x_total), size= n_batch)\n",
    "    train_x = [train_x_total[i] for i in idx]\n",
    "    train_y = [train_y_total[i] for i in idx]\n",
    "    train_x = np.reshape(train_x, [-1, input_h, input_w, input_ch])\n",
    "    train_y = np.reshape(train_y, [-1, n_output])\n",
    "    sess.run(optm, feed_dict={x: train_x,  y: train_y})\n",
    "\n",
    "    \n",
    "    if epoch % n_prt == 0:\n",
    "        c = sess.run(loss, feed_dict={x: train_x, y: train_y})\n",
    "        print (\"Iter : {}\".format(epoch))\n",
    "        print (\"Cost : {}\".format(c))"
   ]
  },
  {
   "cell_type": "code",
   "execution_count": 13,
   "metadata": {},
   "outputs": [
    {
     "name": "stdout",
     "output_type": "stream",
     "text": [
      "Accuracy : 94.0%\n"
     ]
    }
   ],
   "source": [
    "\n",
    "idx = np.random.randint(len(test_x_total),size=100)\n",
    "test_x = [test_x_total[i] for i in idx]\n",
    "test_y = [test_y_total[i] for i in idx]\n",
    "\n",
    "my_pred = sess.run(pred, feed_dict={x : np.array(test_x).reshape(-1, 48, 48, 1)})\n",
    "my_pred = np.argmax(my_pred, axis=1)\n",
    "\n",
    "labels = np.argmax(test_y, axis=1)\n",
    "\n",
    "accr = np.mean(np.equal(my_pred, labels))\n",
    "print(\"Accuracy : {}%\".format(accr*100))"
   ]
  },
  {
   "cell_type": "code",
   "execution_count": 16,
   "metadata": {},
   "outputs": [
    {
     "data": {
      "image/png": "[encoded data removed]",
      "text/plain": [
       "<matplotlib.figure.Figure at 0x1191e0f60>"
      ]
     },
     "metadata": {},
     "output_type": "display_data"
    },
    {
     "name": "stdout",
     "output_type": "stream",
     "text": [
      "Prediction : 1\n",
      "Label : 1\n"
     ]
    },
    {
     "data": {
      "image/png": "[encoded data removed]",
      "text/plain": [
       "<matplotlib.figure.Figure at 0x107aae550>"
      ]
     },
     "metadata": {},
     "output_type": "display_data"
    },
    {
     "name": "stdout",
     "output_type": "stream",
     "text": [
      "Probability : [0. 1.]\n"
     ]
    }
   ],
   "source": [
    "\n",
    "idx = np.random.randint(len(test_x_total),size=1)\n",
    "test_x = [test_x_total[i] for i in idx]\n",
    "test_y = [test_y_total[i] for i in idx]\n",
    "logits = sess.run(tf.nn.softmax(pred), feed_dict={x : np.array(test_x).reshape(-1, 48, 48, 1)})\n",
    "predict = np.argmax(logits)\n",
    "\n",
    "plt.imshow(np.array(test_x).reshape(48, 48), 'gray')\n",
    "plt.xticks([])\n",
    "plt.yticks([])\n",
    "plt.show()\n",
    "\n",
    "print('Prediction : {}'.format(predict))\n",
    "print('Label : {}'.format(np.argmax(test_y)))\n",
    "\n",
    "plt.stem(logits.ravel())\n",
    "plt.show()\n",
    "\n",
    "np.set_printoptions(precision=2, suppress=True)\n",
    "print('Probability : {}'.format(logits.ravel()))"
   ]
  },
  {
   "cell_type": "code",
   "execution_count": null,
   "metadata": {},
   "outputs": [],
   "source": []
  }
 ],
 "metadata": {
  "kernelspec": {
   "display_name": "Python 3",
   "language": "python",
   "name": "python3"
  },
  "language_info": {
   "codemirror_mode": {
    "name": "ipython",
    "version": 3
   },
   "file_extension": ".py",
   "mimetype": "text/x-python",
   "name": "python",
   "nbconvert_exporter": "python",
   "pygments_lexer": "ipython3",
   "version": "3.4.5"
  }
 },
 "nbformat": 4,
 "nbformat_minor": 2
}
