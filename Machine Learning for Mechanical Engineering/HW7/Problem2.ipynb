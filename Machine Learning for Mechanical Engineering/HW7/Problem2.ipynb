{
 "cells": [
  {
   "cell_type": "markdown",
   "metadata": {},
   "source": [
    "### Problem 2"
   ]
  },
  {
   "cell_type": "markdown",
   "metadata": {},
   "source": [
    "An autoencoder is a neural network used for dimensionality reduction; that is, for feature selection and extraction. In denoising autoencoders, a random noise is deliberately added to the input and network is forced to reconstruct the unadulterated input. The decoder function learns to resist small changes in the input. This pretraining result in a robust neural network which is immune to noise in input up to a certain extent. We want to build the model to reconstruct the original signals from the noisy one."
   ]
  },
  {
   "cell_type": "code",
   "execution_count": 1,
   "metadata": {},
   "outputs": [
    {
     "name": "stderr",
     "output_type": "stream",
     "text": [
      "/Users/GYUNAM/.pyenv/versions/3.4.5/lib/python3.4/importlib/_bootstrap.py:321: FutureWarning: Conversion of the second argument of issubdtype from `float` to `np.floating` is deprecated. In future, it will be treated as `np.float64 == np.dtype(float).type`.\n",
      "  return f(*args, **kwds)\n"
     ]
    }
   ],
   "source": [
    "import tensorflow as tf\n",
    "import numpy as np\n",
    "import matplotlib.pyplot as plt\n",
    "from six.moves import cPickle"
   ]
  },
  {
   "cell_type": "code",
   "execution_count": 2,
   "metadata": {},
   "outputs": [
    {
     "name": "stdout",
     "output_type": "stream",
     "text": [
      "Extracting MNIST_data/train-images-idx3-ubyte.gz\n",
      "Extracting MNIST_data/train-labels-idx1-ubyte.gz\n",
      "Extracting MNIST_data/t10k-images-idx3-ubyte.gz\n",
      "Extracting MNIST_data/t10k-labels-idx1-ubyte.gz\n"
     ]
    }
   ],
   "source": [
    "from tensorflow.examples.tutorials.mnist import input_data\n",
    "\n",
    "#load mnist data\n",
    "mnist = input_data.read_data_sets(\"MNIST_data/\",one_hot = True)"
   ]
  },
  {
   "cell_type": "code",
   "execution_count": 3,
   "metadata": {},
   "outputs": [],
   "source": [
    "\n",
    "#shape of input and latent variable\n",
    "\n",
    "#shape of input\n",
    "n_input = 28*28\n",
    "\n",
    "#encoder shape\n",
    "n_encoder = 128\n",
    "\n",
    "n_latent = 32\n",
    "\n",
    "#decoder shape\n",
    "n_decoder = 128"
   ]
  },
  {
   "cell_type": "code",
   "execution_count": 4,
   "metadata": {},
   "outputs": [],
   "source": [
    "#define weights and biases\n",
    "\n",
    "weights = {\n",
    "    'encoder' : tf.Variable(tf.random_normal([n_input, n_encoder], stddev=0.1)),\n",
    "    'latent' : tf.Variable(tf.random_normal([n_encoder, n_latent], stddev=0.1)),\n",
    "    'decoder' : tf.Variable(tf.random_normal([n_latent, n_decoder], stddev=0.1)),\n",
    "    'reconst' : tf.Variable(tf.random_normal([n_decoder, n_input], stddev=0.1))\n",
    "    }\n",
    "\n",
    "biases = {\n",
    "    'encoder' : tf.Variable(tf.random_normal([n_encoder], stddev=0.1)),\n",
    "    'latent' : tf.Variable(tf.random_normal([n_latent], stddev=0.1)),\n",
    "    'decoder' : tf.Variable(tf.random_normal([n_decoder], stddev=0.1)),\n",
    "    'reconst' : tf.Variable(tf.random_normal([n_input], stddev=0.1))\n",
    "}\n",
    "\n",
    "x = tf.placeholder(tf.float32, [None, n_input])\n",
    "original = tf.placeholder(tf.float32, [None, n_input])"
   ]
  },
  {
   "cell_type": "code",
   "execution_count": 5,
   "metadata": {},
   "outputs": [],
   "source": [
    "#encoder function\n",
    "def encoder(x, weights, biases):\n",
    "    encoder = tf.add(tf.matmul(x, weights['encoder']), biases['encoder'])\n",
    "    encoder = tf.nn.tanh(encoder)\n",
    "\n",
    "    latent = tf.add(tf.matmul(encoder, weights['latent']), biases['latent'])\n",
    "\n",
    "    return latent"
   ]
  },
  {
   "cell_type": "code",
   "execution_count": 6,
   "metadata": {},
   "outputs": [],
   "source": [
    "def decoder(latent, weights, biases):\n",
    "    decoder = tf.add(tf.matmul(latent, weights['decoder']), biases['decoder'])\n",
    "    decoder = tf.nn.tanh(decoder)\n",
    "\n",
    "    reconst = tf.add(tf.matmul(decoder, weights['reconst']), biases['reconst'])\n",
    "\n",
    "    return reconst"
   ]
  },
  {
   "cell_type": "code",
   "execution_count": 7,
   "metadata": {},
   "outputs": [],
   "source": [
    "LR = 0.0001\n",
    "\n",
    "latent = encoder(x, weights, biases)\n",
    "reconst = decoder(latent, weights, biases)\n",
    "loss = tf.square(tf.subtract(original, reconst))\n",
    "loss = tf.reduce_mean(loss)\n",
    "\n",
    "optm = tf.train.AdamOptimizer(LR).minimize(loss)\n",
    "\n",
    "init = tf.global_variables_initializer()"
   ]
  },
  {
   "cell_type": "code",
   "execution_count": 8,
   "metadata": {},
   "outputs": [],
   "source": [
    "n_batch = 50\n",
    "n_iter = 5500\n",
    "n_prt = 250"
   ]
  },
  {
   "cell_type": "code",
   "execution_count": 9,
   "metadata": {},
   "outputs": [],
   "source": [
    "sess = tf.Session()\n",
    "sess.run(init)"
   ]
  },
  {
   "cell_type": "code",
   "execution_count": 10,
   "metadata": {},
   "outputs": [],
   "source": [
    "x_train_noisy = cPickle.load(open('./denoising autoencoder data/x_train_noisy.pkl','rb'))\n",
    "x_train_original = cPickle.load(open('./denoising autoencoder data/original_train_mnist.pkl','rb'))"
   ]
  },
  {
   "cell_type": "code",
   "execution_count": 32,
   "metadata": {
    "scrolled": true
   },
   "outputs": [
    {
     "data": {
      "image/png": "[encoded data removed]",
      "text/plain": [
       "<matplotlib.figure.Figure at 0x11ae9e668>"
      ]
     },
     "metadata": {},
     "output_type": "display_data"
    },
    {
     "data": {
      "image/png": "[encoded data removed]",
      "text/plain": [
       "<matplotlib.figure.Figure at 0x11b1b25c0>"
      ]
     },
     "metadata": {},
     "output_type": "display_data"
    }
   ],
   "source": [
    "idx = np.random.randint(mnist.train.images.shape[0], size = 1)\n",
    "plt.imshow(x_train_noisy[idx].reshape(28,28),'gray')\n",
    "plt.show()\n",
    "plt.imshow(x_train_original[idx].reshape(28,28),'gray')\n",
    "plt.show()"
   ]
  },
  {
   "cell_type": "code",
   "execution_count": 11,
   "metadata": {},
   "outputs": [
    {
     "name": "stdout",
     "output_type": "stream",
     "text": [
      "Iter : 0\n",
      "Cost : 0.28929412364959717\n",
      "Iter : 250\n",
      "Cost : 0.07661877572536469\n",
      "Iter : 500\n",
      "Cost : 0.0631159320473671\n",
      "Iter : 750\n",
      "Cost : 0.06471838802099228\n",
      "Iter : 1000\n",
      "Cost : 0.06399960815906525\n",
      "Iter : 1250\n",
      "Cost : 0.05755922943353653\n",
      "Iter : 1500\n",
      "Cost : 0.0522172749042511\n",
      "Iter : 1750\n",
      "Cost : 0.04577495902776718\n",
      "Iter : 2000\n",
      "Cost : 0.047039564698934555\n",
      "Iter : 2250\n",
      "Cost : 0.04428476095199585\n",
      "Iter : 2500\n",
      "Cost : 0.04183505102992058\n",
      "Iter : 2750\n",
      "Cost : 0.04299896955490112\n",
      "Iter : 3000\n",
      "Cost : 0.03846859186887741\n",
      "Iter : 3250\n",
      "Cost : 0.039206624031066895\n",
      "Iter : 3500\n",
      "Cost : 0.037510935217142105\n",
      "Iter : 3750\n",
      "Cost : 0.040112752467393875\n",
      "Iter : 4000\n",
      "Cost : 0.03453920781612396\n",
      "Iter : 4250\n",
      "Cost : 0.03403760865330696\n",
      "Iter : 4500\n",
      "Cost : 0.03611651808023453\n",
      "Iter : 4750\n",
      "Cost : 0.03345419093966484\n",
      "Iter : 5000\n",
      "Cost : 0.03249308094382286\n",
      "Iter : 5250\n",
      "Cost : 0.03191938251256943\n"
     ]
    }
   ],
   "source": [
    "for epoch in range(n_iter):\n",
    "    idx = np.random.randint(mnist.train.images.shape[0], size = n_batch)\n",
    "    noisy_x = [x_train_noisy[i] for i in idx]\n",
    "    origin_x = [x_train_original[i] for i in idx]\n",
    "    sess.run(optm, feed_dict={x: noisy_x, original: origin_x})\n",
    "    if epoch % n_prt == 0:\n",
    "        c = sess.run(loss, feed_dict={x: noisy_x, original: origin_x})\n",
    "        print (\"Iter : {}\".format(epoch))\n",
    "        print (\"Cost : {}\".format(c))"
   ]
  },
  {
   "cell_type": "code",
   "execution_count": 12,
   "metadata": {},
   "outputs": [
    {
     "data": {
      "image/png": "[encoded data removed]",
      "text/plain": [
       "<matplotlib.figure.Figure at 0x10da23b70>"
      ]
     },
     "metadata": {},
     "output_type": "display_data"
    }
   ],
   "source": [
    "idx = np.random.randint(x_train_noisy.shape[0])\n",
    "noisy_x = x_train_noisy[idx].reshape((-1,784))\n",
    "x_reconst = sess.run(reconst, feed_dict = {x : noisy_x})\n",
    "\n",
    "fig = plt.figure(figsize=(5, 3))\n",
    "ax1 = fig.add_subplot(1, 2, 1)\n",
    "ax1.imshow(noisy_x.reshape(28, 28), 'gray')\n",
    "ax1.set_title('Input Image', fontsize=15)\n",
    "ax1.set_xticks([])\n",
    "ax1.set_yticks([])\n",
    "\n",
    "ax2 = fig.add_subplot(1, 2, 2)\n",
    "ax2.imshow(x_reconst.reshape(28, 28), 'gray')\n",
    "ax2.set_title('Reconstructed Image', fontsize=15)\n",
    "ax2.set_xticks([])\n",
    "ax2.set_yticks([])\n",
    "plt.show()"
   ]
  },
  {
   "cell_type": "code",
   "execution_count": null,
   "metadata": {},
   "outputs": [],
   "source": []
  }
 ],
 "metadata": {
  "kernelspec": {
   "display_name": "Python 3",
   "language": "python",
   "name": "python3"
  },
  "language_info": {
   "codemirror_mode": {
    "name": "ipython",
    "version": 3
   },
   "file_extension": ".py",
   "mimetype": "text/x-python",
   "name": "python",
   "nbconvert_exporter": "python",
   "pygments_lexer": "ipython3",
   "version": "3.4.5"
  }
 },
 "nbformat": 4,
 "nbformat_minor": 2
}
