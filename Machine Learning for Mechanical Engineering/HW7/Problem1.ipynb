{
 "cells": [
  {
   "cell_type": "markdown",
   "metadata": {},
   "source": [
    "### Problem 1"
   ]
  },
  {
   "cell_type": "markdown",
   "metadata": {},
   "source": [
    "#### Import Library"
   ]
  },
  {
   "cell_type": "code",
   "execution_count": 3,
   "metadata": {},
   "outputs": [],
   "source": [
    "import numpy as np\n",
    "import matplotlib.pyplot as plt\n",
    "import tensorflow as tf"
   ]
  },
  {
   "cell_type": "markdown",
   "metadata": {},
   "source": [
    "#### Load MNIST Data"
   ]
  },
  {
   "cell_type": "code",
   "execution_count": 2,
   "metadata": {},
   "outputs": [],
   "source": [
    "def batch_maker(batch_size, img, label):\n",
    "    img_len = len(img)\n",
    "    random_idx = np.random.randint(img_len, size = batch_size)\n",
    "    return img[random_idx], label[random_idx]"
   ]
  },
  {
   "cell_type": "code",
   "execution_count": 4,
   "metadata": {},
   "outputs": [
    {
     "name": "stdout",
     "output_type": "stream",
     "text": [
      "Successfully downloaded train-images-idx3-ubyte.gz 9912422 bytes.\n",
      "Extracting MNIST_data/train-images-idx3-ubyte.gz\n",
      "Successfully downloaded train-labels-idx1-ubyte.gz 28881 bytes.\n",
      "Extracting MNIST_data/train-labels-idx1-ubyte.gz\n",
      "Successfully downloaded t10k-images-idx3-ubyte.gz 1648877 bytes.\n",
      "Extracting MNIST_data/t10k-images-idx3-ubyte.gz\n",
      "Successfully downloaded t10k-labels-idx1-ubyte.gz 4542 bytes.\n",
      "Extracting MNIST_data/t10k-labels-idx1-ubyte.gz\n"
     ]
    }
   ],
   "source": [
    "from tensorflow.examples.tutorials.mnist import input_data\n",
    "mnist = input_data.read_data_sets(\"MNIST_data/\", one_hot=True)"
   ]
  },
  {
   "cell_type": "code",
   "execution_count": 5,
   "metadata": {},
   "outputs": [
    {
     "name": "stdout",
     "output_type": "stream",
     "text": [
      "Packages loaded\n",
      "The number of trainimgs : 16583, shape : (16583, 784)\n",
      "The number of testimgs : 2985, shape : (2985, 784)\n"
     ]
    }
   ],
   "source": [
    "train_idx = ((np.argmax(mnist.train.labels, 1) == 1) | \\\n",
    "             (np.argmax(mnist.train.labels, 1) == 5) | \\\n",
    "             (np.argmax(mnist.train.labels, 1) == 6))\n",
    "test_idx = ((np.argmax(mnist.test.labels, 1) == 1) | \\\n",
    "            (np.argmax(mnist.test.labels, 1) == 5) | \\\n",
    "            (np.argmax(mnist.test.labels, 1) == 6))\n",
    "\n",
    "train_imgs   = mnist.train.images[train_idx]\n",
    "train_labels = mnist.train.labels[train_idx]\n",
    "test_imgs    = mnist.test.images[test_idx]\n",
    "test_labels  = mnist.test.labels[test_idx]\n",
    "n_train      = train_imgs.shape[0]\n",
    "n_test       = test_imgs.shape[0]\n",
    "\n",
    "print (\"Packages loaded\")\n",
    "print (\"The number of trainimgs : {}, shape : {}\".format(n_train, train_imgs.shape))\n",
    "print (\"The number of testimgs : {}, shape : {}\".format(n_test, test_imgs.shape))"
   ]
  },
  {
   "cell_type": "markdown",
   "metadata": {},
   "source": [
    "#### Define an Autoencoder Shape"
   ]
  },
  {
   "cell_type": "code",
   "execution_count": null,
   "metadata": {},
   "outputs": [],
   "source": [
    "# Shape of input and latent variable\n",
    "def build_model(n_latent):\n",
    "    n_input = 28*28\n",
    "\n",
    "    # Encoder shape\n",
    "    n_encoder1 = 500\n",
    "    n_encoder2 = 300\n",
    "\n",
    "    # Decoder shape\n",
    "    n_decoder1 = 300\n",
    "    n_decoder2 = 500\n",
    "\n",
    "    weights = {\n",
    "        'encoder1' : tf.Variable(tf.random_normal([n_input, n_encoder1], stddev=0.1)),\n",
    "        'encoder2' : tf.Variable(tf.random_normal([n_encoder1, n_encoder2], stddev=0.1)),\n",
    "        'latent' : tf.Variable(tf.random_normal([n_encoder2, n_latent], stddev=0.1)),\n",
    "        'decoder1' : tf.Variable(tf.random_normal([n_latent, n_decoder1], stddev=0.1)),\n",
    "        'decoder2' : tf.Variable(tf.random_normal([n_decoder1, n_decoder2], stddev=0.1)),\n",
    "        'reconst' : tf.Variable(tf.random_normal([n_decoder2, n_input], stddev=0.1))\n",
    "    }\n",
    "\n",
    "    biases = {\n",
    "        'encoder1' : tf.Variable(tf.random_normal([n_encoder1], stddev=0.1)),\n",
    "        'encoder2' : tf.Variable(tf.random_normal([n_encoder2], stddev=0.1)),\n",
    "        'latent' : tf.Variable(tf.random_normal([n_latent], stddev=0.1)),\n",
    "        'decoder1' : tf.Variable(tf.random_normal([n_decoder1], stddev=0.1)),\n",
    "        'decoder2' : tf.Variable(tf.random_normal([n_decoder2], stddev=0.1)),\n",
    "        'reconst' : tf.Variable(tf.random_normal([n_input], stddev=0.1))\n",
    "    }\n",
    "\n",
    "    x = tf.placeholder(tf.float32, [None, n_input])\n",
    "\n",
    "    def encoder(x, weights, biases):\n",
    "        encoder1 = tf.add(tf.matmul(x, weights['encoder1']), biases['encoder1'])\n",
    "        encoder1 = tf.nn.tanh(encoder1)\n",
    "\n",
    "        encoder2 = tf.add(tf.matmul(encoder1, weights['encoder2']), biases['encoder2'])\n",
    "        encoder2 = tf.nn.tanh(encoder2)\n",
    "\n",
    "        latent = tf.add(tf.matmul(encoder2, weights['latent']), biases['latent'])\n",
    "\n",
    "        return latent\n",
    "\n",
    "    def decoder(latent, weights, biases):\n",
    "        decoder1 = tf.add(tf.matmul(latent, weights['decoder1']), biases['decoder1'])\n",
    "        decoder1 = tf.nn.tanh(decoder1)\n",
    "\n",
    "        decoder2 = tf.add(tf.matmul(decoder1, weights['decoder2']), biases['decoder2'])\n",
    "        decoder2 = tf.nn.tanh(decoder2)\n",
    "\n",
    "        reconst = tf.add(tf.matmul(decoder2, weights['reconst']), biases['reconst'])\n",
    "\n",
    "        return reconst\n",
    "\n",
    "    LR = 0.0001\n",
    "\n",
    "    latent = encoder(x, weights, biases)\n",
    "    reconst = decoder(latent, weights, biases)\n",
    "    loss = tf.square(tf.subtract(x, reconst))\n",
    "    loss = tf.reduce_mean(loss)\n",
    "\n",
    "    optm = tf.train.AdamOptimizer(LR).minimize(loss)\n",
    "\n",
    "    init = tf.global_variables_initializer()\n",
    "\n",
    "    n_batch = 50\n",
    "    n_iter = 2500\n",
    "    n_prt = 250\n",
    "\n",
    "    # Run initialize\n",
    "    # config = tf.ConfigProto(allow_soft_placement=True)  # GPU Allocating policy\n",
    "    # sess = tf.Session(config=config)\n",
    "    sess = tf.Session()\n",
    "    sess.run(init)\n",
    "\n",
    "    # Training cycle\n",
    "    for epoch in range(n_iter):\n",
    "        train_x, train_y = batch_maker(n_batch, train_imgs, train_labels)\n",
    "        print(len(train_x))\n",
    "        sess.run(optm, feed_dict={x : train_x})  \n",
    "\n",
    "        if epoch % n_prt == 0:\n",
    "            c = sess.run(loss, feed_dict={x: train_x})\n",
    "            print (\"Iter : {}\".format(epoch))\n",
    "            print (\"Cost : {}\".format(c))\n",
    "    return c"
   ]
  },
  {
   "cell_type": "code",
   "execution_count": null,
   "metadata": {},
   "outputs": [],
   "source": [
    "losses = []\n",
    "for i in range(20):\n",
    "    c = build_model(i+1)\n",
    "    print(\"# latent variables: {}; loss: {}\".format(i+1, c))\n",
    "    losses.append(c)"
   ]
  },
  {
   "cell_type": "code",
   "execution_count": 11,
   "metadata": {
    "scrolled": true
   },
   "outputs": [
    {
     "data": {
      "image/png": "[encoded data removed]",
      "text/plain": [
       "<matplotlib.figure.Figure at 0x12b43ab70>"
      ]
     },
     "metadata": {},
     "output_type": "display_data"
    }
   ],
   "source": [
    "x = np.arange(1,21,1)\n",
    "plt.plot(x, losses, 'bo', x, losses, 'k')\n",
    "plt.show()"
   ]
  },
  {
   "cell_type": "code",
   "execution_count": 12,
   "metadata": {},
   "outputs": [
    {
     "name": "stdout",
     "output_type": "stream",
     "text": [
      "[0.048042677, 0.037394036, 0.036727294, 0.029137991, 0.027958129, 0.028283242, 0.024887042, 0.034260735, 0.027109116, 0.024407037, 0.024108918, 0.026740741, 0.027673936, 0.030771317, 0.027678179, 0.025466193, 0.028837796, 0.03113871, 0.030334326, 0.028298292]\n"
     ]
    }
   ],
   "source": [
    "print(losses)"
   ]
  },
  {
   "cell_type": "markdown",
   "metadata": {},
   "source": [
    "It seems that 11 is the best candidate number of latent variables since it results in the lowest loss among others. As the number of latent variable increases, there seems to be a tendency to decrease the loss"
   ]
  }
 ],
 "metadata": {
  "kernelspec": {
   "display_name": "Python 3",
   "language": "python",
   "name": "python3"
  },
  "language_info": {
   "codemirror_mode": {
    "name": "ipython",
    "version": 3
   },
   "file_extension": ".py",
   "mimetype": "text/x-python",
   "name": "python",
   "nbconvert_exporter": "python",
   "pygments_lexer": "ipython3",
   "version": "3.4.5"
  }
 },
 "nbformat": 4,
 "nbformat_minor": 2
}
